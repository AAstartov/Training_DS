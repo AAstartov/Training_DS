{
 "cells": [
  {
   "cell_type": "markdown",
   "id": "c5f7b507",
   "metadata": {},
   "source": [
    "<div class=\"alert alert-info\">\n",
    "<b>Задание № 0</b>\n",
    "\n",
    "Найдите минимально необходимый объем выборки для построения интервальной оценки среднего.\n",
    "\n",
    "- желаемая точность $\\Delta$ = 3;\n",
    "- дисперсия $\\sigma^2$  = 225;\n",
    "- уровень доверия $\\beta$ = 0.95.\n",
    "    \n",
    "Ответ округлите до целого\n",
    "</div>"
   ]
  },
  {
   "cell_type": "code",
   "execution_count": 180,
   "id": "66c53b89",
   "metadata": {},
   "outputs": [],
   "source": [
    "from scipy import stats\n",
    "from matplotlib import pyplot as plt\n",
    "import seaborn as sns"
   ]
  },
  {
   "cell_type": "code",
   "execution_count": 117,
   "id": "9286995d",
   "metadata": {},
   "outputs": [],
   "source": [
    "delta = 3\n",
    "div =225\n",
    "beta = 0.95"
   ]
  },
  {
   "cell_type": "code",
   "execution_count": 118,
   "id": "be7df907",
   "metadata": {},
   "outputs": [
    {
     "data": {
      "text/plain": [
       "1.959963984540054"
      ]
     },
     "execution_count": 118,
     "metadata": {},
     "output_type": "execute_result"
    }
   ],
   "source": [
    "z = stats.norm.ppf((1+beta)/2)\n",
    "z"
   ]
  },
  {
   "cell_type": "code",
   "execution_count": 119,
   "id": "b12da9c9",
   "metadata": {},
   "outputs": [
    {
     "data": {
      "text/plain": [
       "958"
      ]
     },
     "execution_count": 119,
     "metadata": {},
     "output_type": "execute_result"
    }
   ],
   "source": [
    "n = round(z**2 * div / beta**2)\n",
    "n"
   ]
  },
  {
   "cell_type": "markdown",
   "id": "3532b0d6",
   "metadata": {},
   "source": [
    "<div class=\"alert alert-info\">\n",
    "<b>Задание № 1</b>\n",
    "\n",
    "Постройте `98% доверительный интервал` для среднего значения, если известно, что\n",
    "\n",
    "- объем выборки n = 25;\n",
    "- среднее значение по выборке $\\overline x$ = 130;\n",
    "- Из достоверных источников известно стандартное отклонение $\\sigma = 15$.\n",
    "    \n",
    "В ответ укажите длину полученного доверительного интервала (разницу между правым и левым концом), окруленную до целого\n",
    "</div>"
   ]
  },
  {
   "cell_type": "code",
   "execution_count": 120,
   "id": "52f4b31d",
   "metadata": {},
   "outputs": [],
   "source": [
    "n = 25\n",
    "x_mean = 130\n",
    "sd = 15\n",
    "conf = 0.98\n",
    "sem = sd / n**0.5"
   ]
  },
  {
   "cell_type": "code",
   "execution_count": 121,
   "id": "ba0b0a68",
   "metadata": {},
   "outputs": [],
   "source": [
    "h = sem * stats.t.ppf((1+conf)/2, n)"
   ]
  },
  {
   "cell_type": "code",
   "execution_count": 122,
   "id": "26467122",
   "metadata": {},
   "outputs": [
    {
     "data": {
      "text/plain": [
       "[122.54467847376807, 137.45532152623193]"
      ]
     },
     "execution_count": 122,
     "metadata": {},
     "output_type": "execute_result"
    }
   ],
   "source": [
    "interval = [x_mean - h, x_mean + h]\n",
    "interval"
   ]
  },
  {
   "cell_type": "code",
   "execution_count": 123,
   "id": "876a6509",
   "metadata": {},
   "outputs": [
    {
     "data": {
      "text/plain": [
       "15"
      ]
     },
     "execution_count": 123,
     "metadata": {},
     "output_type": "execute_result"
    }
   ],
   "source": [
    "L = round(interval[1] - interval[0])\n",
    "L"
   ]
  },
  {
   "cell_type": "markdown",
   "id": "13db045f",
   "metadata": {},
   "source": [
    "<div class=\"alert alert-info\">\n",
    "<b>Задание № 2</b>\n",
    "\n",
    "Даны две выборки роста мужчин и женщин. \n",
    "- Докажите, используя `t-Тест Стьдента`, что различие между выборками незначительно, если уровень значимости равен $\\alpha$ `= 0.001`.\n",
    "- Покажите различия визуально\n",
    "</div>"
   ]
  },
  {
   "cell_type": "code",
   "execution_count": 124,
   "id": "cf466334",
   "metadata": {},
   "outputs": [],
   "source": [
    "import numpy as np"
   ]
  },
  {
   "cell_type": "code",
   "execution_count": 136,
   "id": "3356e6b0",
   "metadata": {},
   "outputs": [],
   "source": [
    "np.random.seed(42) #фиксация случайности\n",
    "\n",
    "mens  = stats.norm.rvs(loc=171, scale=100, size=150000)  # Выборка мужчин со средним ростом 171\n",
    "womens = stats.norm.rvs(loc=170, scale=100, size=150000)  # Выборка женщин со средним ростом 170Задания для самостоятельного решения\n",
    "\n",
    "\n",
    "#В двух строчках выше генерируется две выбороки, где loc это среднее значение, а scale это дисперсия\n",
    "alpha = 0.001"
   ]
  },
  {
   "cell_type": "code",
   "execution_count": 137,
   "id": "f2adca55",
   "metadata": {},
   "outputs": [],
   "source": [
    "t, p_value = stats.ttest_ind(mens, womens)"
   ]
  },
  {
   "cell_type": "code",
   "execution_count": 138,
   "id": "39589013",
   "metadata": {},
   "outputs": [
    {
     "name": "stdout",
     "output_type": "stream",
     "text": [
      "Различия значимы, p_value = 0.0002\n"
     ]
    }
   ],
   "source": [
    "if p_value > alpha:\n",
    "    print(f\"Различия незначительны, p_value = {p_value:.4f}\")\n",
    "else:\n",
    "    print(f\"Различия значимы, p_value = {p_value:.4f}\")"
   ]
  },
  {
   "cell_type": "code",
   "execution_count": 165,
   "id": "ee16efb0",
   "metadata": {},
   "outputs": [
    {
     "data": {
      "text/plain": [
       "(array([3.0000e+00, 1.1000e+01, 5.0000e+01, 1.3000e+02, 3.9200e+02,\n",
       "        8.8000e+02, 2.0060e+03, 3.8910e+03, 6.9940e+03, 1.0830e+04,\n",
       "        1.5273e+04, 1.8787e+04, 2.0337e+04, 1.9964e+04, 1.7262e+04,\n",
       "        1.3184e+04, 9.1370e+03, 5.5330e+03, 2.9950e+03, 1.3980e+03,\n",
       "        6.3400e+02, 2.1300e+02, 6.8000e+01, 2.5000e+01, 3.0000e+00]),\n",
       " array([-271.38859664, -236.8555874 , -202.32257816, -167.78956892,\n",
       "        -133.25655968,  -98.72355044,  -64.1905412 ,  -29.65753196,\n",
       "           4.87547728,   39.40848652,   73.94149577,  108.47450501,\n",
       "         143.00751425,  177.54052349,  212.07353273,  246.60654197,\n",
       "         281.13955121,  315.67256045,  350.20556969,  384.73857893,\n",
       "         419.27158817,  453.80459741,  488.33760666,  522.8706159 ,\n",
       "         557.40362514,  591.93663438]),\n",
       " <BarContainer object of 25 artists>)"
      ]
     },
     "execution_count": 165,
     "metadata": {},
     "output_type": "execute_result"
    },
    {
     "data": {
      "image/png": "[encoded data removed]",
      "text/plain": [
       "<Figure size 640x480 with 1 Axes>"
      ]
     },
     "metadata": {},
     "output_type": "display_data"
    }
   ],
   "source": [
    "plt.hist(mens, bins = 25)\n",
    "plt.hist(womens, bins = 25)"
   ]
  },
  {
   "cell_type": "markdown",
   "id": "43c192e9",
   "metadata": {},
   "source": [
    "<div class=\"alert alert-info\">\n",
    "<b>Задание № 3</b>\n",
    "\n",
    "Определите объем необходимой выборки для исследования среднего чека за кофе в случайном городе если известно, что в этом городе:\n",
    "\n",
    "- стандартное отклонение $\\sigma = 150$;\n",
    "- уровень доверия $\\beta$  = 95%;\n",
    "- Погрешность $\\Delta = 50$ рублей.\n",
    "</div>"
   ]
  },
  {
   "cell_type": "code",
   "execution_count": 71,
   "id": "1ba415e2",
   "metadata": {},
   "outputs": [],
   "source": [
    "sd = 150\n",
    "beta = 0.95\n",
    "delta = 50"
   ]
  },
  {
   "cell_type": "code",
   "execution_count": 72,
   "id": "b75aeaf2",
   "metadata": {},
   "outputs": [
    {
     "data": {
      "text/plain": [
       "1.959963984540054"
      ]
     },
     "execution_count": 72,
     "metadata": {},
     "output_type": "execute_result"
    }
   ],
   "source": [
    "z = stats.norm.ppf((1+beta)/2)\n",
    "z"
   ]
  },
  {
   "cell_type": "code",
   "execution_count": 73,
   "id": "6b052d8f",
   "metadata": {},
   "outputs": [
    {
     "data": {
      "text/plain": [
       "95770"
      ]
     },
     "execution_count": 73,
     "metadata": {},
     "output_type": "execute_result"
    }
   ],
   "source": [
    "n = round((z * sd / beta)**2)\n",
    "n"
   ]
  },
  {
   "cell_type": "markdown",
   "id": "8702f950",
   "metadata": {},
   "source": [
    "<div class=\"alert alert-info\">\n",
    "<b>Задание № 4</b>\n",
    "\n",
    "Представьте, что вы хотите разоблачить \"волшебника\" который считает, что умеет предсказывать погоду на завтра, отвечая просто: дождь или солнце. Вы пронаблюдали за ответами \"волшебника\" в течении какого-то периода времени и получили некие результаты (см.ниже).\n",
    "\n",
    "Можно ли сказать, что маг действительно умеет предсказывать погоду? Уровень значимости принять за `0.05` ($\\alpha=0.05$).\n",
    "</div>"
   ]
  },
  {
   "cell_type": "code",
   "execution_count": 75,
   "id": "a6847978",
   "metadata": {},
   "outputs": [],
   "source": [
    "import pandas as pd"
   ]
  },
  {
   "cell_type": "code",
   "execution_count": 76,
   "id": "55faf13b",
   "metadata": {},
   "outputs": [
    {
     "data": {
      "text/html": [
       "<div>\n",
       "<style scoped>\n",
       "    .dataframe tbody tr th:only-of-type {\n",
       "        vertical-align: middle;\n",
       "    }\n",
       "\n",
       "    .dataframe tbody tr th {\n",
       "        vertical-align: top;\n",
       "    }\n",
       "\n",
       "    .dataframe thead th {\n",
       "        text-align: right;\n",
       "    }\n",
       "</style>\n",
       "<table border=\"1\" class=\"dataframe\">\n",
       "  <thead>\n",
       "    <tr style=\"text-align: right;\">\n",
       "      <th></th>\n",
       "      <th>Верные ответы волшебника</th>\n",
       "      <th>Неверные ответы</th>\n",
       "    </tr>\n",
       "  </thead>\n",
       "  <tbody>\n",
       "    <tr>\n",
       "      <th>Дождь</th>\n",
       "      <td>10</td>\n",
       "      <td>15</td>\n",
       "    </tr>\n",
       "    <tr>\n",
       "      <th>Солнце</th>\n",
       "      <td>39</td>\n",
       "      <td>34</td>\n",
       "    </tr>\n",
       "  </tbody>\n",
       "</table>\n",
       "</div>"
      ],
      "text/plain": [
       "        Верные ответы волшебника  Неверные ответы\n",
       "Дождь                         10               15\n",
       "Солнце                        39               34"
      ]
     },
     "execution_count": 76,
     "metadata": {},
     "output_type": "execute_result"
    }
   ],
   "source": [
    "observations = pd.DataFrame([[10, 15],[39, 34]],\n",
    "                            index=['Дождь','Солнце'],\n",
    "                            columns=['Верные ответы волшебника','Неверные ответы'])\n",
    "observations"
   ]
  },
  {
   "cell_type": "code",
   "execution_count": 80,
   "id": "3eb25b04",
   "metadata": {},
   "outputs": [],
   "source": [
    "# Учтите, что у стат. тестов, в том числе и точного теста Фишера под нулевой гипотезой подразумевается случайность/отсутсвие эффекта\n",
    "\n",
    "oddsratio, pvalue = stats.fisher_exact(observations.values)"
   ]
  },
  {
   "cell_type": "code",
   "execution_count": 83,
   "id": "da980144",
   "metadata": {},
   "outputs": [
    {
     "name": "stdout",
     "output_type": "stream",
     "text": [
      "Принимаем нулевую гипотезу, эффект отсутствует\n"
     ]
    }
   ],
   "source": [
    "alpha = 0.05\n",
    "if pvalue > alpha:\n",
    "    print(\"Принимаем нулевую гипотезу, эффект отсутствует\")\n",
    "else:\n",
    "    print(f\"На уровне значимости {alpha} есть наблюдаемый эффект, нулевую гипотезу отклоняем\")"
   ]
  },
  {
   "cell_type": "markdown",
   "id": "592df771",
   "metadata": {},
   "source": [
    "<div class=\"alert alert-info\">\n",
    "<b>Задание № 5</b> \n",
    "\n",
    "Используя функцию mean_confidence_interval(data, confidence), постройте доверительный интервал с уровнем доверия $\\beta = 90\\%$ для выборки:\n",
    "\n",
    "</div>"
   ]
  },
  {
   "cell_type": "code",
   "execution_count": 84,
   "id": "0bab1d56",
   "metadata": {},
   "outputs": [],
   "source": [
    "def mean_confidence_interval(data, confidence=0.95):  \n",
    "    n = len(data)\n",
    "    m, se = np.mean(data), stats.sem(data)\n",
    "    h = se * stats.t.ppf((1 + confidence)/2, n)  \n",
    "    return m-h, m, m+h "
   ]
  },
  {
   "cell_type": "code",
   "execution_count": 85,
   "id": "5bbd616c",
   "metadata": {},
   "outputs": [
    {
     "data": {
      "text/plain": [
       "(6.074074746111319, 6.628571428571429, 7.183068111031539)"
      ]
     },
     "execution_count": 85,
     "metadata": {},
     "output_type": "execute_result"
    }
   ],
   "source": [
    "data = [4,5,8,9,6,7,5,6,7,8,5,6,7,0,9,8,4,6,\n",
    "        7,9,8,6,5,7,8,9,6,7,5,8,6,7,9,5,10]\n",
    "mean_confidence_interval(data, 0.9)\n",
    "\n"
   ]
  },
  {
   "cell_type": "markdown",
   "id": "0758c7ad",
   "metadata": {},
   "source": [
    "<div class=\"alert alert-info\">\n",
    "<b>Задание № 6</b>\n",
    "\n",
    "Принадлежат ли выборки `A` и `B` одному множеству? \n",
    "    \n",
    "- Оцените это с помощью известных вам тестов для проверок статистических гипотез;\n",
    "- Покажите различия визуально.\n",
    "</div>"
   ]
  },
  {
   "cell_type": "code",
   "execution_count": 110,
   "id": "532b1a73",
   "metadata": {},
   "outputs": [],
   "source": [
    "A = [4,5,8,9,6,7,5,6,7,6,8,5,6,7,8,4,\n",
    "    6,7,9,8,6,5,7,8,6,7,5,6,8,6,7,5,\n",
    "    4,5,8,9,6,7,5,6,7,6,8,5,6,7,8,4,\n",
    "    6,7,9,8,6,5,7,8,6,7,5,6,8,6,7,5,\n",
    "    4,5,8,9,6,7,5,6,7,6,8,5,6,7,8,4,\n",
    "    6,7,9,8,6,5,7,8,6,7,5,6,8,6,7,5,\n",
    "    4,5,8,9,6,7,5,6,7,6,8,5,6,7,8,4]\n",
    "\n",
    "B = [5,6,7,8,4,6,7,2,6,5,7,5,3,5,3,\n",
    "    5,3,5,5,8,7,6,4,5,3,5,4,6,4,5,3,\n",
    "    2,6,4,3,5,4,3,4,5,4,3,4,5,4,3,4,\n",
    "    2,6,4,3,5,4,3,4,5,4,3,4,5,4,3,4,\n",
    "    3,4,4,1,2,4,3,2,4,3,2,1,5,3,4,6,\n",
    "    3,2,4,5,6,4,3,3,5,3,4,4,4,2,5,3]\n",
    "alpha = 0.05"
   ]
  },
  {
   "cell_type": "code",
   "execution_count": 111,
   "id": "da6941c6",
   "metadata": {},
   "outputs": [],
   "source": [
    "int1 = mean_confidence_interval(A, 1-alpha)\n",
    "int2 = mean_confidence_interval(B, 1-alpha)"
   ]
  },
  {
   "cell_type": "code",
   "execution_count": 112,
   "id": "26907437",
   "metadata": {},
   "outputs": [
    {
     "data": {
      "text/plain": [
       "((6.194065759237698, 6.446428571428571, 6.698791383619445),\n",
       " (3.8548051152869576, 4.147368421052631, 4.439931726818305))"
      ]
     },
     "execution_count": 112,
     "metadata": {},
     "output_type": "execute_result"
    }
   ],
   "source": [
    "int1, int2"
   ]
  },
  {
   "cell_type": "code",
   "execution_count": 129,
   "id": "d31949dc",
   "metadata": {},
   "outputs": [
    {
     "data": {
      "text/plain": [
       "(112, 95)"
      ]
     },
     "execution_count": 129,
     "metadata": {},
     "output_type": "execute_result"
    }
   ],
   "source": [
    "#доверительные интервалы не пересекаются\n",
    "len(A), len(B)"
   ]
  },
  {
   "cell_type": "code",
   "execution_count": 130,
   "id": "db6508c1",
   "metadata": {},
   "outputs": [
    {
     "data": {
      "text/plain": [
       "1.3216865332483675e-24"
      ]
     },
     "execution_count": 130,
     "metadata": {},
     "output_type": "execute_result"
    }
   ],
   "source": [
    "t, pvalue = stats.ttest_ind(A,B, equal_var=False)\n",
    "pvalue"
   ]
  },
  {
   "cell_type": "code",
   "execution_count": 132,
   "id": "1645991d",
   "metadata": {},
   "outputs": [
    {
     "name": "stdout",
     "output_type": "stream",
     "text": [
      "Разлиия значимы\n"
     ]
    }
   ],
   "source": [
    "if pvalue > alpha:\n",
    "    print(\"Различия незначимы\")\n",
    "else:\n",
    "    print(\"Разлиия значимы\")"
   ]
  },
  {
   "cell_type": "code",
   "execution_count": 166,
   "id": "97ad9b77",
   "metadata": {},
   "outputs": [
    {
     "data": {
      "text/plain": [
       "(array([ 2.,  8., 22.,  0., 28., 20.,  0.,  9.,  4.,  2.]),\n",
       " array([1. , 1.7, 2.4, 3.1, 3.8, 4.5, 5.2, 5.9, 6.6, 7.3, 8. ]),\n",
       " <BarContainer object of 10 artists>)"
      ]
     },
     "execution_count": 166,
     "metadata": {},
     "output_type": "execute_result"
    },
    {
     "data": {
      "image/png": "[encoded data removed]",
      "text/plain": [
       "<Figure size 640x480 with 1 Axes>"
      ]
     },
     "metadata": {},
     "output_type": "display_data"
    }
   ],
   "source": [
    "plt.hist(A)\n",
    "plt.hist(B)"
   ]
  },
  {
   "cell_type": "markdown",
   "id": "63b0b28d",
   "metadata": {},
   "source": [
    "<div class=\"alert alert-info\">\n",
    "<b>Задание № 7 (задание без подвоха)</b>\n",
    "\n",
    "На примере датасета про жилье в New York City, мы сталкивались с примером, когда переменная имеет не совсем нормальное распределение. \n",
    "\n",
    "- Предположим, Вы сформировали две гипотезы:\n",
    "    - нулевая гипотеза - распределение нормальное;\n",
    "    - альтернативная гипотеза - распределение ненормальное.\n",
    "- допустим, вы применили какой-то тест (сейчас неважно какой), который показал уровень значимости  `p-value = 0.03`. Каковы будут ваши выводы? Будем считать что у нас нормальное распределение или все-таки нет?)\n",
    "    \n",
    "</div>"
   ]
  },
  {
   "cell_type": "code",
   "execution_count": 167,
   "id": "ce1a57aa",
   "metadata": {},
   "outputs": [],
   "source": [
    "# При alpha = 0.05 нулевая гипотеза отклоняется, распределение ненормальное"
   ]
  },
  {
   "cell_type": "markdown",
   "id": "a85b589e",
   "metadata": {},
   "source": [
    "<div class=\"alert alert-info\">\n",
    "<b>Задание № 8</b>\n",
    "    \n",
    "Первая выборка — это пациенты, которых лечили препаратом `А`.  Вторая выборка — пациенты, которых лечили препаратом `B`.\n",
    "\n",
    "Значения в выборках — это некоторая характеристика эффективности лечения (уровень метаболита в крови, температура через три дня после начала лечения, срок выздоровления, число койко-дней, и т.д.) \n",
    "\n",
    "- Требуется выяснить, имеется ли значимое различие эффективности препаратов `А` и `B`, или различия являются чисто случайными и объясняются «естественной» дисперсией выбранной характеристики?  (`уровень значимости принять за 0.05 (5%)`)\n",
    "\n",
    "- При каком минимальном p-value различия были бы уже значимы? \n",
    "    \n",
    "- Если выборки незначительно отличаются, то продемонстрируйте это визуально\n",
    "</div>"
   ]
  },
  {
   "cell_type": "code",
   "execution_count": 173,
   "id": "e078cfb8",
   "metadata": {},
   "outputs": [],
   "source": [
    "np.random.seed(11)\n",
    "A = stats.norm.rvs(scale=15, loc=169, size=300)\n",
    "B = stats.norm.rvs(scale=14, loc=171.4, size=300)\n",
    "alpha = 0.05"
   ]
  },
  {
   "cell_type": "code",
   "execution_count": 174,
   "id": "c537e8db",
   "metadata": {},
   "outputs": [],
   "source": [
    "t, p_value = stats.ttest_ind(A,B)"
   ]
  },
  {
   "cell_type": "code",
   "execution_count": 175,
   "id": "2ecd3833",
   "metadata": {},
   "outputs": [
    {
     "data": {
      "text/plain": [
       "0.051284593140469285"
      ]
     },
     "execution_count": 175,
     "metadata": {},
     "output_type": "execute_result"
    }
   ],
   "source": [
    "p_value"
   ]
  },
  {
   "cell_type": "code",
   "execution_count": 176,
   "id": "0adea8e8",
   "metadata": {},
   "outputs": [
    {
     "name": "stdout",
     "output_type": "stream",
     "text": [
      "Различия незначительны, p_value = 0.0513\n"
     ]
    }
   ],
   "source": [
    "if p_value > alpha:\n",
    "    print(f\"Различия незначительны, p_value = {p_value:.4f}\")\n",
    "else:\n",
    "    print(f\"Различия значимы, p_value = {p_value:.4f}\")"
   ]
  },
  {
   "cell_type": "code",
   "execution_count": 178,
   "id": "afc92de5",
   "metadata": {},
   "outputs": [],
   "source": [
    "# при альфа 0,052 различия могли бы считаться значимыми или p-value 0,049"
   ]
  },
  {
   "cell_type": "code",
   "execution_count": 188,
   "id": "22d63e73",
   "metadata": {},
   "outputs": [
    {
     "data": {
      "text/plain": [
       "<AxesSubplot:ylabel='Count'>"
      ]
     },
     "execution_count": 188,
     "metadata": {},
     "output_type": "execute_result"
    },
    {
     "data": {
      "image/png": "[encoded data removed]",
      "text/plain": [
       "<Figure size 640x480 with 1 Axes>"
      ]
     },
     "metadata": {},
     "output_type": "display_data"
    }
   ],
   "source": [
    "sns.histplot(A)\n",
    "sns.histplot(B, color = 'r')"
   ]
  },
  {
   "cell_type": "code",
   "execution_count": null,
   "id": "6c5e1cce",
   "metadata": {},
   "outputs": [],
   "source": []
  }
 ],
 "metadata": {
  "kernelspec": {
   "display_name": "Python 3 (ipykernel)",
   "language": "python",
   "name": "python3"
  },
  "language_info": {
   "codemirror_mode": {
    "name": "ipython",
    "version": 3
   },
   "file_extension": ".py",
   "mimetype": "text/x-python",
   "name": "python",
   "nbconvert_exporter": "python",
   "pygments_lexer": "ipython3",
   "version": "3.9.13"
  }
 },
 "nbformat": 4,
 "nbformat_minor": 5
}
