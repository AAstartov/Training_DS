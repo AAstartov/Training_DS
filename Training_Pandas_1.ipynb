{
 "cells": [
  {
   "cell_type": "markdown",
   "id": "223b3eff",
   "metadata": {},
   "source": [
    "### Задание 1"
   ]
  },
  {
   "cell_type": "code",
   "execution_count": 43,
   "id": "562d64d9",
   "metadata": {},
   "outputs": [],
   "source": [
    "import pandas as pd"
   ]
  },
  {
   "cell_type": "code",
   "execution_count": 44,
   "id": "89ed9852",
   "metadata": {},
   "outputs": [],
   "source": [
    "movies = pd.read_csv(\"ml-latest-small/movies.csv\")"
   ]
  },
  {
   "cell_type": "code",
   "execution_count": 45,
   "id": "8dae5681",
   "metadata": {},
   "outputs": [],
   "source": [
    "ratings = pd.read_csv(\"ml-latest-small/ratings.csv\")"
   ]
  },
  {
   "cell_type": "code",
   "execution_count": 46,
   "id": "41adb635",
   "metadata": {},
   "outputs": [],
   "source": [
    "df = movies.merge(ratings, on=\"movieId\", how = \"inner\")"
   ]
  },
  {
   "cell_type": "code",
   "execution_count": 51,
   "id": "76ff01c4",
   "metadata": {},
   "outputs": [],
   "source": [
    "df = df[df.rating == 5].groupby(\"title\").count().reset_index()[[\"title\", \"movieId\"]].rename(columns={\"movieId\":\"counter\"})"
   ]
  },
  {
   "cell_type": "code",
   "execution_count": 55,
   "id": "fde1fd29",
   "metadata": {},
   "outputs": [],
   "source": [
    "result = df[df.counter == df.counter.max()]"
   ]
  },
  {
   "cell_type": "code",
   "execution_count": 56,
   "id": "bfebd30a",
   "metadata": {},
   "outputs": [
    {
     "name": "stdout",
     "output_type": "stream",
     "text": [
      "2310    Shawshank Redemption, The (1994)\n",
      "Name: title, dtype: object\n"
     ]
    }
   ],
   "source": [
    "print(result.title)"
   ]
  },
  {
   "cell_type": "markdown",
   "id": "9e865f2a",
   "metadata": {},
   "source": [
    "### Задание 2"
   ]
  },
  {
   "cell_type": "code",
   "execution_count": null,
   "id": "2c9881c7",
   "metadata": {},
   "outputs": [],
   "source": []
  }
 ],
 "metadata": {
  "kernelspec": {
   "display_name": "Python 3 (ipykernel)",
   "language": "python",
   "name": "python3"
  },
  "language_info": {
   "codemirror_mode": {
    "name": "ipython",
    "version": 3
   },
   "file_extension": ".py",
   "mimetype": "text/x-python",
   "name": "python",
   "nbconvert_exporter": "python",
   "pygments_lexer": "ipython3",
   "version": "3.9.13"
  }
 },
 "nbformat": 4,
 "nbformat_minor": 5
}
