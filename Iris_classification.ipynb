{
 "cells": [
  {
   "cell_type": "code",
   "execution_count": 17,
   "id": "b896f178",
   "metadata": {},
   "outputs": [],
   "source": [
    "import pandas as pd\n",
    "from sklearn.datasets import load_iris"
   ]
  },
  {
   "cell_type": "markdown",
   "id": "3273e246",
   "metadata": {},
   "source": [
    "### Загрузка данных"
   ]
  },
  {
   "cell_type": "code",
   "execution_count": 18,
   "id": "57e22589",
   "metadata": {},
   "outputs": [],
   "source": [
    "iris = load_iris()"
   ]
  },
  {
   "cell_type": "code",
   "execution_count": 25,
   "id": "4d66a556",
   "metadata": {},
   "outputs": [
    {
     "data": {
      "text/html": [
       "<div>\n",
       "<style scoped>\n",
       "    .dataframe tbody tr th:only-of-type {\n",
       "        vertical-align: middle;\n",
       "    }\n",
       "\n",
       "    .dataframe tbody tr th {\n",
       "        vertical-align: top;\n",
       "    }\n",
       "\n",
       "    .dataframe thead th {\n",
       "        text-align: right;\n",
       "    }\n",
       "</style>\n",
       "<table border=\"1\" class=\"dataframe\">\n",
       "  <thead>\n",
       "    <tr style=\"text-align: right;\">\n",
       "      <th></th>\n",
       "      <th>sepal length (cm)</th>\n",
       "      <th>sepal width (cm)</th>\n",
       "    </tr>\n",
       "  </thead>\n",
       "  <tbody>\n",
       "    <tr>\n",
       "      <th>0</th>\n",
       "      <td>5.1</td>\n",
       "      <td>3.5</td>\n",
       "    </tr>\n",
       "    <tr>\n",
       "      <th>1</th>\n",
       "      <td>4.9</td>\n",
       "      <td>3.0</td>\n",
       "    </tr>\n",
       "    <tr>\n",
       "      <th>2</th>\n",
       "      <td>4.7</td>\n",
       "      <td>3.2</td>\n",
       "    </tr>\n",
       "    <tr>\n",
       "      <th>3</th>\n",
       "      <td>4.6</td>\n",
       "      <td>3.1</td>\n",
       "    </tr>\n",
       "    <tr>\n",
       "      <th>4</th>\n",
       "      <td>5.0</td>\n",
       "      <td>3.6</td>\n",
       "    </tr>\n",
       "    <tr>\n",
       "      <th>...</th>\n",
       "      <td>...</td>\n",
       "      <td>...</td>\n",
       "    </tr>\n",
       "    <tr>\n",
       "      <th>145</th>\n",
       "      <td>6.7</td>\n",
       "      <td>3.0</td>\n",
       "    </tr>\n",
       "    <tr>\n",
       "      <th>146</th>\n",
       "      <td>6.3</td>\n",
       "      <td>2.5</td>\n",
       "    </tr>\n",
       "    <tr>\n",
       "      <th>147</th>\n",
       "      <td>6.5</td>\n",
       "      <td>3.0</td>\n",
       "    </tr>\n",
       "    <tr>\n",
       "      <th>148</th>\n",
       "      <td>6.2</td>\n",
       "      <td>3.4</td>\n",
       "    </tr>\n",
       "    <tr>\n",
       "      <th>149</th>\n",
       "      <td>5.9</td>\n",
       "      <td>3.0</td>\n",
       "    </tr>\n",
       "  </tbody>\n",
       "</table>\n",
       "<p>150 rows × 2 columns</p>\n",
       "</div>"
      ],
      "text/plain": [
       "     sepal length (cm)  sepal width (cm)\n",
       "0                  5.1               3.5\n",
       "1                  4.9               3.0\n",
       "2                  4.7               3.2\n",
       "3                  4.6               3.1\n",
       "4                  5.0               3.6\n",
       "..                 ...               ...\n",
       "145                6.7               3.0\n",
       "146                6.3               2.5\n",
       "147                6.5               3.0\n",
       "148                6.2               3.4\n",
       "149                5.9               3.0\n",
       "\n",
       "[150 rows x 2 columns]"
      ]
     },
     "execution_count": 25,
     "metadata": {},
     "output_type": "execute_result"
    }
   ],
   "source": [
    "data = pd.DataFrame(iris.data, columns=iris.feature_names)[['sepal length (cm)', 'sepal width (cm)']]\n",
    "data"
   ]
  },
  {
   "cell_type": "code",
   "execution_count": 26,
   "id": "1ab7c1fc",
   "metadata": {},
   "outputs": [
    {
     "data": {
      "text/plain": [
       "array([0, 0, 0, 0, 0, 0, 0, 0, 0, 0, 0, 0, 0, 0, 0, 0, 0, 0, 0, 0, 0, 0,\n",
       "       0, 0, 0, 0, 0, 0, 0, 0, 0, 0, 0, 0, 0, 0, 0, 0, 0, 0, 0, 0, 0, 0,\n",
       "       0, 0, 0, 0, 0, 0, 1, 1, 1, 1, 1, 1, 1, 1, 1, 1, 1, 1, 1, 1, 1, 1,\n",
       "       1, 1, 1, 1, 1, 1, 1, 1, 1, 1, 1, 1, 1, 1, 1, 1, 1, 1, 1, 1, 1, 1,\n",
       "       1, 1, 1, 1, 1, 1, 1, 1, 1, 1, 1, 1, 2, 2, 2, 2, 2, 2, 2, 2, 2, 2,\n",
       "       2, 2, 2, 2, 2, 2, 2, 2, 2, 2, 2, 2, 2, 2, 2, 2, 2, 2, 2, 2, 2, 2,\n",
       "       2, 2, 2, 2, 2, 2, 2, 2, 2, 2, 2, 2, 2, 2, 2, 2, 2, 2])"
      ]
     },
     "execution_count": 26,
     "metadata": {},
     "output_type": "execute_result"
    }
   ],
   "source": [
    "data_class = iris.target\n",
    "data_class"
   ]
  },
  {
   "cell_type": "code",
   "execution_count": 27,
   "id": "65a4d365",
   "metadata": {},
   "outputs": [
    {
     "data": {
      "text/plain": [
       "array([0, 0, 0, 0, 0, 0, 0, 0, 0, 0, 0, 0, 0, 0, 0, 0, 0, 0, 0, 0, 0, 0,\n",
       "       0, 0, 0, 0, 0, 0, 0, 0, 0, 0, 0, 0, 0, 0, 0, 0, 0, 0, 0, 0, 0, 0,\n",
       "       0, 0, 0, 0, 0, 0, 1, 1, 1, 1, 1, 1, 1, 1, 1, 1, 1, 1, 1, 1, 1, 1,\n",
       "       1, 1, 1, 1, 1, 1, 1, 1, 1, 1, 1, 1, 1, 1, 1, 1, 1, 1, 1, 1, 1, 1,\n",
       "       1, 1, 1, 1, 1, 1, 1, 1, 1, 1, 1, 1, 2, 2, 2, 2, 2, 2, 2, 2, 2, 2,\n",
       "       2, 2, 2, 2, 2, 2, 2, 2, 2, 2, 2, 2, 2, 2, 2, 2, 2, 2, 2, 2, 2, 2,\n",
       "       2, 2, 2, 2, 2, 2, 2, 2, 2, 2, 2, 2, 2, 2, 2, 2, 2, 2])"
      ]
     },
     "execution_count": 27,
     "metadata": {},
     "output_type": "execute_result"
    }
   ],
   "source": [
    "data_class"
   ]
  },
  {
   "cell_type": "markdown",
   "id": "065038f9",
   "metadata": {},
   "source": [
    "### Построение модели дискриминантного анализа"
   ]
  },
  {
   "cell_type": "code",
   "execution_count": 29,
   "id": "0a216967",
   "metadata": {},
   "outputs": [],
   "source": [
    "from sklearn.model_selection import train_test_split\n",
    "from sklearn.discriminant_analysis import LinearDiscriminantAnalysis"
   ]
  },
  {
   "cell_type": "code",
   "execution_count": 30,
   "id": "fb787e82",
   "metadata": {},
   "outputs": [],
   "source": [
    "X_train, X_test, y_train, y_test = train_test_split(data, data_class, random_state=42)"
   ]
  },
  {
   "cell_type": "code",
   "execution_count": 32,
   "id": "709c56a9",
   "metadata": {},
   "outputs": [
    {
     "data": {
      "text/plain": [
       "LinearDiscriminantAnalysis()"
      ]
     },
     "execution_count": 32,
     "metadata": {},
     "output_type": "execute_result"
    }
   ],
   "source": [
    "lda = LinearDiscriminantAnalysis()\n",
    "lda.fit(X_train, y_train)"
   ]
  },
  {
   "cell_type": "markdown",
   "id": "205d1435",
   "metadata": {},
   "source": [
    "### Определение точности модели"
   ]
  },
  {
   "cell_type": "code",
   "execution_count": 33,
   "id": "7ba79afb",
   "metadata": {},
   "outputs": [],
   "source": [
    "y_pred = lda.predict(X_test)"
   ]
  },
  {
   "cell_type": "code",
   "execution_count": 35,
   "id": "a492b33b",
   "metadata": {},
   "outputs": [
    {
     "data": {
      "text/html": [
       "<div>\n",
       "<style scoped>\n",
       "    .dataframe tbody tr th:only-of-type {\n",
       "        vertical-align: middle;\n",
       "    }\n",
       "\n",
       "    .dataframe tbody tr th {\n",
       "        vertical-align: top;\n",
       "    }\n",
       "\n",
       "    .dataframe thead th {\n",
       "        text-align: right;\n",
       "    }\n",
       "</style>\n",
       "<table border=\"1\" class=\"dataframe\">\n",
       "  <thead>\n",
       "    <tr style=\"text-align: right;\">\n",
       "      <th></th>\n",
       "      <th>1</th>\n",
       "      <th>0</th>\n",
       "      <th>2</th>\n",
       "      <th>1</th>\n",
       "      <th>2</th>\n",
       "      <th>0</th>\n",
       "      <th>1</th>\n",
       "      <th>2</th>\n",
       "      <th>1</th>\n",
       "      <th>1</th>\n",
       "      <th>...</th>\n",
       "      <th>0</th>\n",
       "      <th>0</th>\n",
       "      <th>0</th>\n",
       "      <th>0</th>\n",
       "      <th>2</th>\n",
       "      <th>0</th>\n",
       "      <th>0</th>\n",
       "      <th>2</th>\n",
       "      <th>2</th>\n",
       "      <th>0</th>\n",
       "    </tr>\n",
       "  </thead>\n",
       "  <tbody>\n",
       "    <tr>\n",
       "      <th>0</th>\n",
       "      <td>1</td>\n",
       "      <td>0</td>\n",
       "      <td>2</td>\n",
       "      <td>1</td>\n",
       "      <td>1</td>\n",
       "      <td>0</td>\n",
       "      <td>1</td>\n",
       "      <td>2</td>\n",
       "      <td>1</td>\n",
       "      <td>1</td>\n",
       "      <td>...</td>\n",
       "      <td>0</td>\n",
       "      <td>0</td>\n",
       "      <td>0</td>\n",
       "      <td>0</td>\n",
       "      <td>1</td>\n",
       "      <td>0</td>\n",
       "      <td>0</td>\n",
       "      <td>2</td>\n",
       "      <td>1</td>\n",
       "      <td>0</td>\n",
       "    </tr>\n",
       "  </tbody>\n",
       "</table>\n",
       "<p>1 rows × 38 columns</p>\n",
       "</div>"
      ],
      "text/plain": [
       "   1  0  2  1  2  0  1  2  1  1  ...  0  0  0  0  2  0  0  2  2  0\n",
       "0  1  0  2  1  1  0  1  2  1  1  ...  0  0  0  0  1  0  0  2  1  0\n",
       "\n",
       "[1 rows x 38 columns]"
      ]
     },
     "execution_count": 35,
     "metadata": {},
     "output_type": "execute_result"
    }
   ],
   "source": [
    "res = pd.DataFrame(y_test, y_pred).T\n",
    "res"
   ]
  },
  {
   "cell_type": "code",
   "execution_count": 52,
   "id": "7f5d7d1d",
   "metadata": {},
   "outputs": [],
   "source": [
    "from sklearn.metrics import accuracy_score"
   ]
  },
  {
   "cell_type": "code",
   "execution_count": 53,
   "id": "68a92495",
   "metadata": {},
   "outputs": [
    {
     "data": {
      "text/plain": [
       "0.868421052631579"
      ]
     },
     "execution_count": 53,
     "metadata": {},
     "output_type": "execute_result"
    }
   ],
   "source": [
    "accuracy_score(y_test, y_pred)"
   ]
  },
  {
   "cell_type": "markdown",
   "id": "6d179f14",
   "metadata": {},
   "source": [
    "### Построение визуализации предсказания и центров классов"
   ]
  },
  {
   "cell_type": "code",
   "execution_count": 39,
   "id": "2ae035ef",
   "metadata": {},
   "outputs": [],
   "source": [
    "from matplotlib import pyplot as plt\n",
    "%matplotlib inline"
   ]
  },
  {
   "cell_type": "code",
   "execution_count": 45,
   "id": "d6e0ad0a",
   "metadata": {},
   "outputs": [
    {
     "data": {
      "text/plain": [
       "array([[4.99714286, 3.42857143],\n",
       "       [5.88717949, 2.75128205],\n",
       "       [6.53947368, 2.97894737]])"
      ]
     },
     "execution_count": 45,
     "metadata": {},
     "output_type": "execute_result"
    }
   ],
   "source": [
    "lda.means_"
   ]
  },
  {
   "cell_type": "code",
   "execution_count": 51,
   "id": "2f68d5d3",
   "metadata": {},
   "outputs": [
    {
     "data": {
      "text/plain": [
       "<matplotlib.collections.PathCollection at 0x7f765e073a30>"
      ]
     },
     "execution_count": 51,
     "metadata": {},
     "output_type": "execute_result"
    },
    {
     "data": {
      "image/png": "[encoded data removed]",
      "text/plain": [
       "<Figure size 640x480 with 1 Axes>"
      ]
     },
     "metadata": {},
     "output_type": "display_data"
    }
   ],
   "source": [
    "plt.scatter(x=X_test['sepal length (cm)'], y=X_test['sepal width (cm)'], c = y_pred)\n",
    "plt.scatter(lda.means_[:,0], lda.means_[:,1], c='r', s=150, marker='*')"
   ]
  },
  {
   "cell_type": "markdown",
   "id": "5c8ed322",
   "metadata": {},
   "source": [
    "Сравним с реальными данными"
   ]
  },
  {
   "cell_type": "code",
   "execution_count": 75,
   "id": "04c78767",
   "metadata": {},
   "outputs": [
    {
     "data": {
      "text/plain": [
       "<matplotlib.collections.PathCollection at 0x7f765d684f40>"
      ]
     },
     "execution_count": 75,
     "metadata": {},
     "output_type": "execute_result"
    },
    {
     "data": {
      "image/png": "[encoded data removed]",
      "text/plain": [
       "<Figure size 640x480 with 1 Axes>"
      ]
     },
     "metadata": {},
     "output_type": "display_data"
    }
   ],
   "source": [
    "plt.scatter(x=X_test['sepal length (cm)'], y=X_test['sepal width (cm)'], c = y_test)\n",
    "plt.scatter(lda.means_[:,0], lda.means_[:,1], c='r', s=150, marker='*')"
   ]
  },
  {
   "cell_type": "markdown",
   "id": "d9a4caff",
   "metadata": {},
   "source": [
    "Первый класс классифицируется корректно. 2 и 3 - неточность на границах."
   ]
  },
  {
   "cell_type": "markdown",
   "id": "4875beb9",
   "metadata": {},
   "source": [
    "### Кластеризация с KMeans"
   ]
  },
  {
   "cell_type": "code",
   "execution_count": 54,
   "id": "b8f6c331",
   "metadata": {},
   "outputs": [],
   "source": [
    "from sklearn.preprocessing import StandardScaler"
   ]
  },
  {
   "cell_type": "code",
   "execution_count": 55,
   "id": "4a2b64e7",
   "metadata": {},
   "outputs": [],
   "source": [
    "scaler = StandardScaler()"
   ]
  },
  {
   "cell_type": "code",
   "execution_count": 57,
   "id": "e6a599e9",
   "metadata": {},
   "outputs": [
    {
     "data": {
      "text/plain": [
       "array([[-0.90068117,  1.01900435],\n",
       "       [-1.14301691, -0.13197948],\n",
       "       [-1.38535265,  0.32841405],\n",
       "       [-1.50652052,  0.09821729],\n",
       "       [-1.02184904,  1.24920112],\n",
       "       [-0.53717756,  1.93979142],\n",
       "       [-1.50652052,  0.78880759],\n",
       "       [-1.02184904,  0.78880759],\n",
       "       [-1.74885626, -0.36217625],\n",
       "       [-1.14301691,  0.09821729],\n",
       "       [-0.53717756,  1.47939788],\n",
       "       [-1.26418478,  0.78880759],\n",
       "       [-1.26418478, -0.13197948],\n",
       "       [-1.87002413, -0.13197948],\n",
       "       [-0.05250608,  2.16998818],\n",
       "       [-0.17367395,  3.09077525],\n",
       "       [-0.53717756,  1.93979142],\n",
       "       [-0.90068117,  1.01900435],\n",
       "       [-0.17367395,  1.70959465],\n",
       "       [-0.90068117,  1.70959465],\n",
       "       [-0.53717756,  0.78880759],\n",
       "       [-0.90068117,  1.47939788],\n",
       "       [-1.50652052,  1.24920112],\n",
       "       [-0.90068117,  0.55861082],\n",
       "       [-1.26418478,  0.78880759],\n",
       "       [-1.02184904, -0.13197948],\n",
       "       [-1.02184904,  0.78880759],\n",
       "       [-0.7795133 ,  1.01900435],\n",
       "       [-0.7795133 ,  0.78880759],\n",
       "       [-1.38535265,  0.32841405],\n",
       "       [-1.26418478,  0.09821729],\n",
       "       [-0.53717756,  0.78880759],\n",
       "       [-0.7795133 ,  2.40018495],\n",
       "       [-0.41600969,  2.63038172],\n",
       "       [-1.14301691,  0.09821729],\n",
       "       [-1.02184904,  0.32841405],\n",
       "       [-0.41600969,  1.01900435],\n",
       "       [-1.14301691,  1.24920112],\n",
       "       [-1.74885626, -0.13197948],\n",
       "       [-0.90068117,  0.78880759],\n",
       "       [-1.02184904,  1.01900435],\n",
       "       [-1.62768839, -1.74335684],\n",
       "       [-1.74885626,  0.32841405],\n",
       "       [-1.02184904,  1.01900435],\n",
       "       [-0.90068117,  1.70959465],\n",
       "       [-1.26418478, -0.13197948],\n",
       "       [-0.90068117,  1.70959465],\n",
       "       [-1.50652052,  0.32841405],\n",
       "       [-0.65834543,  1.47939788],\n",
       "       [-1.02184904,  0.55861082],\n",
       "       [ 1.40150837,  0.32841405],\n",
       "       [ 0.67450115,  0.32841405],\n",
       "       [ 1.2803405 ,  0.09821729],\n",
       "       [-0.41600969, -1.74335684],\n",
       "       [ 0.79566902, -0.59237301],\n",
       "       [-0.17367395, -0.59237301],\n",
       "       [ 0.55333328,  0.55861082],\n",
       "       [-1.14301691, -1.51316008],\n",
       "       [ 0.91683689, -0.36217625],\n",
       "       [-0.7795133 , -0.82256978],\n",
       "       [-1.02184904, -2.43394714],\n",
       "       [ 0.06866179, -0.13197948],\n",
       "       [ 0.18982966, -1.97355361],\n",
       "       [ 0.31099753, -0.36217625],\n",
       "       [-0.29484182, -0.36217625],\n",
       "       [ 1.03800476,  0.09821729],\n",
       "       [-0.29484182, -0.13197948],\n",
       "       [-0.05250608, -0.82256978],\n",
       "       [ 0.4321654 , -1.97355361],\n",
       "       [-0.29484182, -1.28296331],\n",
       "       [ 0.06866179,  0.32841405],\n",
       "       [ 0.31099753, -0.59237301],\n",
       "       [ 0.55333328, -1.28296331],\n",
       "       [ 0.31099753, -0.59237301],\n",
       "       [ 0.67450115, -0.36217625],\n",
       "       [ 0.91683689, -0.13197948],\n",
       "       [ 1.15917263, -0.59237301],\n",
       "       [ 1.03800476, -0.13197948],\n",
       "       [ 0.18982966, -0.36217625],\n",
       "       [-0.17367395, -1.05276654],\n",
       "       [-0.41600969, -1.51316008],\n",
       "       [-0.41600969, -1.51316008],\n",
       "       [-0.05250608, -0.82256978],\n",
       "       [ 0.18982966, -0.82256978],\n",
       "       [-0.53717756, -0.13197948],\n",
       "       [ 0.18982966,  0.78880759],\n",
       "       [ 1.03800476,  0.09821729],\n",
       "       [ 0.55333328, -1.74335684],\n",
       "       [-0.29484182, -0.13197948],\n",
       "       [-0.41600969, -1.28296331],\n",
       "       [-0.41600969, -1.05276654],\n",
       "       [ 0.31099753, -0.13197948],\n",
       "       [-0.05250608, -1.05276654],\n",
       "       [-1.02184904, -1.74335684],\n",
       "       [-0.29484182, -0.82256978],\n",
       "       [-0.17367395, -0.13197948],\n",
       "       [-0.17367395, -0.36217625],\n",
       "       [ 0.4321654 , -0.36217625],\n",
       "       [-0.90068117, -1.28296331],\n",
       "       [-0.17367395, -0.59237301],\n",
       "       [ 0.55333328,  0.55861082],\n",
       "       [-0.05250608, -0.82256978],\n",
       "       [ 1.52267624, -0.13197948],\n",
       "       [ 0.55333328, -0.36217625],\n",
       "       [ 0.79566902, -0.13197948],\n",
       "       [ 2.12851559, -0.13197948],\n",
       "       [-1.14301691, -1.28296331],\n",
       "       [ 1.76501198, -0.36217625],\n",
       "       [ 1.03800476, -1.28296331],\n",
       "       [ 1.64384411,  1.24920112],\n",
       "       [ 0.79566902,  0.32841405],\n",
       "       [ 0.67450115, -0.82256978],\n",
       "       [ 1.15917263, -0.13197948],\n",
       "       [-0.17367395, -1.28296331],\n",
       "       [-0.05250608, -0.59237301],\n",
       "       [ 0.67450115,  0.32841405],\n",
       "       [ 0.79566902, -0.13197948],\n",
       "       [ 2.24968346,  1.70959465],\n",
       "       [ 2.24968346, -1.05276654],\n",
       "       [ 0.18982966, -1.97355361],\n",
       "       [ 1.2803405 ,  0.32841405],\n",
       "       [-0.29484182, -0.59237301],\n",
       "       [ 2.24968346, -0.59237301],\n",
       "       [ 0.55333328, -0.82256978],\n",
       "       [ 1.03800476,  0.55861082],\n",
       "       [ 1.64384411,  0.32841405],\n",
       "       [ 0.4321654 , -0.59237301],\n",
       "       [ 0.31099753, -0.13197948],\n",
       "       [ 0.67450115, -0.59237301],\n",
       "       [ 1.64384411, -0.13197948],\n",
       "       [ 1.88617985, -0.59237301],\n",
       "       [ 2.4920192 ,  1.70959465],\n",
       "       [ 0.67450115, -0.59237301],\n",
       "       [ 0.55333328, -0.59237301],\n",
       "       [ 0.31099753, -1.05276654],\n",
       "       [ 2.24968346, -0.13197948],\n",
       "       [ 0.55333328,  0.78880759],\n",
       "       [ 0.67450115,  0.09821729],\n",
       "       [ 0.18982966, -0.13197948],\n",
       "       [ 1.2803405 ,  0.09821729],\n",
       "       [ 1.03800476,  0.09821729],\n",
       "       [ 1.2803405 ,  0.09821729],\n",
       "       [-0.05250608, -0.82256978],\n",
       "       [ 1.15917263,  0.32841405],\n",
       "       [ 1.03800476,  0.55861082],\n",
       "       [ 1.03800476, -0.13197948],\n",
       "       [ 0.55333328, -1.28296331],\n",
       "       [ 0.79566902, -0.13197948],\n",
       "       [ 0.4321654 ,  0.78880759],\n",
       "       [ 0.06866179, -0.13197948]])"
      ]
     },
     "execution_count": 57,
     "metadata": {},
     "output_type": "execute_result"
    }
   ],
   "source": [
    "X_scaled = scaler.fit_transform(data)\n",
    "X_scaled"
   ]
  },
  {
   "cell_type": "code",
   "execution_count": 59,
   "id": "86c8d879",
   "metadata": {},
   "outputs": [
    {
     "data": {
      "text/plain": [
       "<matplotlib.collections.PathCollection at 0x7f765e30f820>"
      ]
     },
     "execution_count": 59,
     "metadata": {},
     "output_type": "execute_result"
    },
    {
     "data": {
      "image/png": "[encoded data removed]",
      "text/plain": [
       "<Figure size 640x480 with 1 Axes>"
      ]
     },
     "metadata": {},
     "output_type": "display_data"
    }
   ],
   "source": [
    "plt.scatter(X_scaled[:, 0], X_scaled[:, 1])"
   ]
  },
  {
   "cell_type": "code",
   "execution_count": 60,
   "id": "594035c2",
   "metadata": {},
   "outputs": [],
   "source": [
    "from sklearn.cluster import KMeans"
   ]
  },
  {
   "cell_type": "code",
   "execution_count": 67,
   "id": "8434b4ca",
   "metadata": {},
   "outputs": [],
   "source": [
    "k_inertia = []\n",
    "ks = range(1, 20)\n",
    "\n",
    "for k in ks:\n",
    "    clf_kmeans = KMeans(n_clusters=k)\n",
    "    clf_kmeans.fit(X_scaled)\n",
    "    k_inertia.append(clf_kmeans.inertia_)"
   ]
  },
  {
   "cell_type": "code",
   "execution_count": 68,
   "id": "82211a21",
   "metadata": {},
   "outputs": [
    {
     "data": {
      "text/plain": [
       "Text(0, 0.5, 'Инерция')"
      ]
     },
     "execution_count": 68,
     "metadata": {},
     "output_type": "execute_result"
    },
    {
     "data": {
      "image/png": "[encoded data removed]",
      "text/plain": [
       "<Figure size 640x480 with 1 Axes>"
      ]
     },
     "metadata": {},
     "output_type": "display_data"
    }
   ],
   "source": [
    "plt.plot(ks, k_inertia)\n",
    "plt.plot(ks, k_inertia ,'ro')\n",
    "plt.xlabel('Количество кластеров')\n",
    "plt.ylabel('Инерция')"
   ]
  },
  {
   "cell_type": "markdown",
   "id": "91764111",
   "metadata": {},
   "source": [
    "Оптимальное число кластеров - 3"
   ]
  },
  {
   "cell_type": "code",
   "execution_count": 69,
   "id": "ca4e9566",
   "metadata": {},
   "outputs": [
    {
     "data": {
      "text/plain": [
       "array([1, 1, 1, 1, 1, 1, 1, 1, 1, 1, 1, 1, 1, 1, 1, 1, 1, 1, 1, 1, 1, 1,\n",
       "       1, 1, 1, 1, 1, 1, 1, 1, 1, 1, 1, 1, 1, 1, 1, 1, 1, 1, 1, 2, 1, 1,\n",
       "       1, 1, 1, 1, 1, 1, 0, 0, 0, 2, 0, 2, 0, 2, 0, 2, 2, 2, 2, 2, 2, 0,\n",
       "       2, 2, 2, 2, 0, 2, 2, 2, 0, 0, 0, 0, 2, 2, 2, 2, 2, 2, 2, 0, 0, 2,\n",
       "       2, 2, 2, 2, 2, 2, 2, 2, 2, 2, 2, 2, 0, 2, 0, 0, 0, 0, 2, 0, 2, 0,\n",
       "       0, 2, 0, 2, 2, 0, 0, 0, 0, 2, 0, 2, 0, 2, 0, 0, 2, 2, 2, 0, 0, 0,\n",
       "       2, 2, 2, 0, 0, 0, 2, 0, 0, 0, 2, 0, 0, 0, 2, 0, 0, 2], dtype=int32)"
      ]
     },
     "execution_count": 69,
     "metadata": {},
     "output_type": "execute_result"
    }
   ],
   "source": [
    "kmeans = KMeans(n_clusters=3)\n",
    "clusters = kmeans.fit_predict(X_scaled)\n",
    "clusters"
   ]
  },
  {
   "cell_type": "code",
   "execution_count": 70,
   "id": "9b80ce50",
   "metadata": {},
   "outputs": [
    {
     "data": {
      "text/html": [
       "<div>\n",
       "<style scoped>\n",
       "    .dataframe tbody tr th:only-of-type {\n",
       "        vertical-align: middle;\n",
       "    }\n",
       "\n",
       "    .dataframe tbody tr th {\n",
       "        vertical-align: top;\n",
       "    }\n",
       "\n",
       "    .dataframe thead th {\n",
       "        text-align: right;\n",
       "    }\n",
       "</style>\n",
       "<table border=\"1\" class=\"dataframe\">\n",
       "  <thead>\n",
       "    <tr style=\"text-align: right;\">\n",
       "      <th></th>\n",
       "      <th>0</th>\n",
       "      <th>0</th>\n",
       "      <th>0</th>\n",
       "      <th>0</th>\n",
       "      <th>0</th>\n",
       "      <th>0</th>\n",
       "      <th>0</th>\n",
       "      <th>0</th>\n",
       "      <th>0</th>\n",
       "      <th>0</th>\n",
       "      <th>...</th>\n",
       "      <th>2</th>\n",
       "      <th>2</th>\n",
       "      <th>2</th>\n",
       "      <th>2</th>\n",
       "      <th>2</th>\n",
       "      <th>2</th>\n",
       "      <th>2</th>\n",
       "      <th>2</th>\n",
       "      <th>2</th>\n",
       "      <th>2</th>\n",
       "    </tr>\n",
       "  </thead>\n",
       "  <tbody>\n",
       "    <tr>\n",
       "      <th>0</th>\n",
       "      <td>1</td>\n",
       "      <td>1</td>\n",
       "      <td>1</td>\n",
       "      <td>1</td>\n",
       "      <td>1</td>\n",
       "      <td>1</td>\n",
       "      <td>1</td>\n",
       "      <td>1</td>\n",
       "      <td>1</td>\n",
       "      <td>1</td>\n",
       "      <td>...</td>\n",
       "      <td>0</td>\n",
       "      <td>0</td>\n",
       "      <td>2</td>\n",
       "      <td>0</td>\n",
       "      <td>0</td>\n",
       "      <td>0</td>\n",
       "      <td>2</td>\n",
       "      <td>0</td>\n",
       "      <td>0</td>\n",
       "      <td>2</td>\n",
       "    </tr>\n",
       "  </tbody>\n",
       "</table>\n",
       "<p>1 rows × 150 columns</p>\n",
       "</div>"
      ],
      "text/plain": [
       "   0  0  0  0  0  0  0  0  0  0  ...  2  2  2  2  2  2  2  2  2  2\n",
       "0  1  1  1  1  1  1  1  1  1  1  ...  0  0  2  0  0  0  2  0  0  2\n",
       "\n",
       "[1 rows x 150 columns]"
      ]
     },
     "execution_count": 70,
     "metadata": {},
     "output_type": "execute_result"
    }
   ],
   "source": [
    "res = pd.DataFrame(clusters, data_class).T\n",
    "res"
   ]
  },
  {
   "cell_type": "code",
   "execution_count": 71,
   "id": "3946da2a",
   "metadata": {},
   "outputs": [
    {
     "data": {
      "text/plain": [
       "<matplotlib.collections.PathCollection at 0x7f765d89feb0>"
      ]
     },
     "execution_count": 71,
     "metadata": {},
     "output_type": "execute_result"
    },
    {
     "data": {
      "image/png": "[encoded data removed]",
      "text/plain": [
       "<Figure size 640x480 with 1 Axes>"
      ]
     },
     "metadata": {},
     "output_type": "display_data"
    }
   ],
   "source": [
    "plt.scatter(X_scaled[:, 0], X_scaled[:, 1], c=clusters)"
   ]
  },
  {
   "cell_type": "markdown",
   "id": "6bc5801f",
   "metadata": {},
   "source": [
    "Сравним с реальными данными"
   ]
  },
  {
   "cell_type": "code",
   "execution_count": 74,
   "id": "43d2aae1",
   "metadata": {},
   "outputs": [
    {
     "data": {
      "text/plain": [
       "<matplotlib.collections.PathCollection at 0x7f765d6bf7c0>"
      ]
     },
     "execution_count": 74,
     "metadata": {},
     "output_type": "execute_result"
    },
    {
     "data": {
      "image/png": "[encoded data removed]",
      "text/plain": [
       "<Figure size 640x480 with 1 Axes>"
      ]
     },
     "metadata": {},
     "output_type": "display_data"
    }
   ],
   "source": [
    "plt.scatter(data['sepal length (cm)'], data['sepal width (cm)'], c = data_class)"
   ]
  }
 ],
 "metadata": {
  "kernelspec": {
   "display_name": "Python 3 (ipykernel)",
   "language": "python",
   "name": "python3"
  },
  "language_info": {
   "codemirror_mode": {
    "name": "ipython",
    "version": 3
   },
   "file_extension": ".py",
   "mimetype": "text/x-python",
   "name": "python",
   "nbconvert_exporter": "python",
   "pygments_lexer": "ipython3",
   "version": "3.9.13"
  }
 },
 "nbformat": 4,
 "nbformat_minor": 5
}
